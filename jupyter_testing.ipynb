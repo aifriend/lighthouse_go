{
 "cells": [
  {
   "cell_type": "code",
   "execution_count": 16,
   "metadata": {},
   "outputs": [],
   "source": [
    "import numpy as np\n",
    "import matplotlib.pyplot as plt"
   ]
  },
  {
   "cell_type": "code",
   "execution_count": null,
   "metadata": {},
   "outputs": [],
   "source": [
    "from lh.config.gameconfig import GameConfig\n",
    "cfg = GameConfig(\"lh/config/maps/island.txt\")\n",
    "\n",
    "island = np.array(cfg.island)\n",
    "dim_x, dim_y = island.shape\n",
    "image = island[:, :]\n",
    "\n",
    "plt.matshow(image)\n",
    "plt.show()"
   ]
  },
  {
   "cell_type": "code",
   "execution_count": null,
   "metadata": {},
   "outputs": [],
   "source": [
    "pieces = np.zeros((18, 21, 5))\n",
    "\n",
    "previous_actor =  pieces[10, 12, :]\n",
    "print(previous_actor)"
   ]
  },
  {
   "cell_type": "code",
   "execution_count": null,
   "metadata": {},
   "outputs": [],
   "source": [
    "pieces = np.zeros((10, 16, 5))\n",
    "pieces[5, 10, 1] = 1\n",
    "pieces[9, 15, 1] = -1\n",
    "\n",
    "dim_x, dim_y, dim_z = pieces.shape\n",
    "print(pieces[1])\n",
    "\n",
    "for y in range(dim_y):\n",
    "    for x in range(dim_x):\n",
    "        print(pieces[x][y][1])\n"
   ]
  },
  {
   "cell_type": "code",
   "execution_count": 33,
   "metadata": {},
   "outputs": [
    {
     "data": {
      "image/png": "[encoded data removed]",
      "text/plain": [
       "<Figure size 336x288 with 1 Axes>"
      ]
     },
     "metadata": {
      "needs_background": "light"
     },
     "output_type": "display_data"
    },
    {
     "data": {
      "image/png": "[encoded data removed]",
      "text/plain": [
       "<Figure size 288x288 with 1 Axes>"
      ]
     },
     "metadata": {
      "needs_background": "light"
     },
     "output_type": "display_data"
    },
    {
     "data": {
      "image/png": "[encoded data removed]",
      "text/plain": [
       "<Figure size 336x288 with 1 Axes>"
      ]
     },
     "metadata": {
      "needs_background": "light"
     },
     "output_type": "display_data"
    }
   ],
   "source": [
    "import math\n",
    "\n",
    "HORIZON = 3\n",
    "\n",
    "def distt(a, b):\n",
    "    x0, y0 = a\n",
    "    x1, y1 = b\n",
    "    return math.sqrt((x0 - x1) ** 2 + (y0 - y1) ** 2)\n",
    "\n",
    "board = np.random.randint(100, size=(18, 21, 14))\n",
    "energy = board[:, :, 1]\n",
    "plt.matshow(energy)\n",
    "plt.show()\n",
    "\n",
    "horizon_map = []\n",
    "dist = HORIZON\n",
    "for y in range(-dist, dist + 1):\n",
    "    row = []\n",
    "    for x in range(-dist, dist + 1):\n",
    "        row.append(distt((0, 0), (x, y)) <= HORIZON)\n",
    "    horizon_map.append(row)\n",
    "\n",
    "image = horizon_map\n",
    "plt.matshow(image)\n",
    "plt.show()\n",
    "\n",
    "px, py = (15, 4)\n",
    "dist = HORIZON\n",
    "energy_map = np.copy(board[:, :, 1])\n",
    "board[:, :, 1] = 0\n",
    "for y in range(-dist, dist + 1):\n",
    "    for x in range(-dist, dist + 1):\n",
    "        if horizon_map[y + dist][x + dist] and 0 <= py + y < 18 and 0 <= px + x < 21:\n",
    "            board[py + y, px + x, 1] = energy_map[py + y, px + x]\n",
    "            \n",
    "image = board[:, :, 1]\n",
    "plt.matshow(image)\n",
    "plt.show()"
   ]
  },
  {
   "cell_type": "code",
   "execution_count": null,
   "metadata": {},
   "outputs": [],
   "source": [
    "moves = [0] * 10\n",
    "print(moves)\n",
    "\n",
    "move = [3,7,9]\n",
    "for m in move:\n",
    "    moves[m] = 1\n",
    "\n",
    "print(moves)\n",
    "\n",
    "pi = [0.0,0.0,0.0,0.1,0.0,0.0,0.0,0.8,0.0,0.1]\n",
    "action = np.random.choice(len(moves), p=pi)\n",
    "print(\"%s\" % (action))"
   ]
  },
  {
   "cell_type": "code",
   "execution_count": 8,
   "metadata": {},
   "outputs": [
    {
     "name": "stdout",
     "output_type": "stream",
     "text": [
      "The original number is : 38\n",
      "The converted binary list is : [1, 0, 0, 1, 1, 0]\n"
     ]
    }
   ],
   "source": [
    "# Python3 code to demonstrate  \n",
    "# decimal to binary number conversion \n",
    "# using format() + list comprehension \n",
    "  \n",
    "# initializing number  \n",
    "test_num = 38\n",
    "  \n",
    "# printing original number \n",
    "print (\"The original number is : \" + str(test_num)) \n",
    "  \n",
    "# using format() + list comprehension \n",
    "# decimal to binary number conversion  \n",
    "res = [int(i) for i in list('{0:0b}'.format(test_num))] \n",
    "# res = [int(i) for i in '{0:01b}'.format(test_num)]\n",
    "# res = [int(i) for i in bin(test_num)[2:]]\n",
    "\n",
    "# printing result  \n",
    "print (\"The converted binary list is : \" +  str(res)) "
   ]
  },
  {
   "cell_type": "code",
   "execution_count": 51,
   "metadata": {},
   "outputs": [
    {
     "name": "stdout",
     "output_type": "stream",
     "text": [
      "[1. 1. 1. 1. 1. 0. 1. 1. 1. 1.]\n"
     ]
    }
   ],
   "source": [
    "class OneHotEncoder():\n",
    "    def __init__(self):\n",
    "        pass\n",
    "    \n",
    "    def update(self, board):\n",
    "        board[5] = 0\n",
    "        \n",
    "board = np.ones(10)\n",
    "ohe = OneHotEncoder()\n",
    "ohe.update(board)\n",
    "print(board)"
   ]
  },
  {
   "cell_type": "code",
   "execution_count": 54,
   "metadata": {},
   "outputs": [
    {
     "name": "stdout",
     "output_type": "stream",
     "text": [
      "[[1. 1. 1. 1. 1. 1. 1. 1. 1. 1. 1. 1. 1. 1.]\n",
      " [1. 1. 1. 1. 1. 1. 1. 1. 1. 1. 1. 1. 1. 1.]\n",
      " [1. 1. 1. 1. 1. 1. 1. 1. 1. 1. 1. 1. 1. 1.]\n",
      " [1. 1. 1. 1. 1. 1. 1. 1. 1. 1. 1. 1. 1. 1.]\n",
      " [1. 1. 1. 1. 1. 1. 1. 1. 1. 1. 1. 1. 1. 1.]\n",
      " [1. 0. 0. 0. 0. 0. 0. 0. 0. 0. 0. 0. 0. 1.]\n",
      " [1. 1. 1. 1. 1. 1. 1. 1. 1. 1. 1. 1. 1. 1.]\n",
      " [1. 1. 1. 1. 1. 1. 1. 1. 1. 1. 1. 1. 1. 1.]\n",
      " [1. 1. 1. 1. 1. 1. 1. 1. 1. 1. 1. 1. 1. 1.]\n",
      " [1. 1. 1. 1. 1. 1. 1. 1. 1. 1. 1. 1. 1. 1.]\n",
      " [1. 1. 1. 1. 1. 1. 1. 1. 1. 1. 1. 1. 1. 1.]\n",
      " [1. 1. 1. 1. 1. 1. 1. 1. 1. 1. 1. 1. 1. 1.]\n",
      " [1. 1. 1. 1. 1. 1. 1. 1. 1. 1. 1. 1. 1. 1.]\n",
      " [1. 1. 1. 1. 1. 1. 1. 1. 1. 1. 1. 1. 1. 1.]\n",
      " [1. 1. 1. 1. 1. 1. 1. 1. 1. 1. 1. 1. 1. 1.]\n",
      " [1. 1. 1. 1. 1. 1. 1. 1. 1. 1. 1. 1. 1. 1.]\n",
      " [1. 1. 1. 1. 1. 1. 1. 1. 1. 1. 1. 1. 1. 1.]\n",
      " [1. 1. 1. 1. 1. 1. 1. 1. 1. 1. 1. 1. 1. 1.]\n",
      " [1. 1. 1. 1. 1. 1. 1. 1. 1. 1. 1. 1. 1. 1.]\n",
      " [1. 1. 1. 1. 1. 1. 1. 1. 1. 1. 1. 1. 1. 1.]\n",
      " [1. 1. 1. 1. 1. 1. 1. 1. 1. 1. 1. 1. 1. 1.]]\n"
     ]
    }
   ],
   "source": [
    "b = np.ones((18, 21, 14))\n",
    "b[10, 5][1:-1] = 0\n",
    "print(b[10, :])"
   ]
  },
  {
   "cell_type": "code",
   "execution_count": 74,
   "metadata": {},
   "outputs": [
    {
     "name": "stdout",
     "output_type": "stream",
     "text": [
      "FOUND: frozenset({(8, 9), (4, 11)})\n",
      "frozenset({(14, 9), (11, 6)})\n",
      "FOUND: frozenset({(8, 9), (10, 14)})\n",
      "frozenset({(10, 14), (4, 11)})\n",
      "8\n"
     ]
    }
   ],
   "source": [
    "conn = {frozenset({(10, 14), (4, 11)}), frozenset({(8, 9), (10, 14)}), frozenset({(14, 9), (11, 6)}), frozenset({(8, 9), (4, 11)})}\n",
    "cell = 0\n",
    "for tri in tris:\n",
    "    if (8,9) in tri:\n",
    "        print(\"FOUND: %s\" % tri)\n",
    "    else:\n",
    "        print(tri)\n",
    "    cell += len(tri)\n",
    "print(cell)"
   ]
  },
  {
   "cell_type": "code",
   "execution_count": 75,
   "metadata": {},
   "outputs": [
    {
     "name": "stdout",
     "output_type": "stream",
     "text": [
      "(8, 9)\n",
      "(14, 9)\n",
      "(8, 9)\n",
      "(10, 14)\n"
     ]
    }
   ],
   "source": [
    "lh_list = {frozenset({(10, 14), (4, 11)}), frozenset({(8, 9), (10, 14)}), frozenset({(14, 9), (11, 6)}), frozenset({(8, 9), (4, 11)})}\n",
    "for pair in lh_list:\n",
    "    print(next(iter(pair)))"
   ]
  },
  {
   "cell_type": "code",
   "execution_count": 3,
   "metadata": {},
   "outputs": [
    {
     "name": "stdout",
     "output_type": "stream",
     "text": [
      "12\n"
     ]
    }
   ],
   "source": [
    "lh_list = {((14, 9), (11, 6), (8, 9)): [(10, 7), (11, 7), (9, 8), (10, 8), (11, 8), (12, 8), (8, 9), (9, 9), (10, 9), (11, 9), (12, 9), (13, 9)]}\n",
    "cell = 0\n",
    "player_lh = [(11, 6), (8, 9), (14, 9)]\n",
    "polygons = lh_list\n",
    "for key, tris in polygons.items():\n",
    "    if next(iter(key)) in player_lh:\n",
    "        cell += len(tris)\n",
    "\n",
    "print(cell)"
   ]
  }
 ],
 "metadata": {
  "kernelspec": {
   "display_name": "game",
   "language": "python",
   "name": "game"
  },
  "language_info": {
   "codemirror_mode": {
    "name": "ipython",
    "version": 3
   },
   "file_extension": ".py",
   "mimetype": "text/x-python",
   "name": "python",
   "nbconvert_exporter": "python",
   "pygments_lexer": "ipython3",
   "version": "3.5.6"
  }
 },
 "nbformat": 4,
 "nbformat_minor": 2
}
