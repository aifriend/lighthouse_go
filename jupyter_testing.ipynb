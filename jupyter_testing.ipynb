{
 "cells": [
  {
   "cell_type": "code",
   "execution_count": 1,
   "metadata": {},
   "outputs": [],
   "source": [
    "import numpy as np\n",
    "import matplotlib.pyplot as plt"
   ]
  },
  {
   "cell_type": "code",
   "execution_count": null,
   "metadata": {},
   "outputs": [],
   "source": [
    "from lh.config.gameconfig import GameConfig\n",
    "cfg = GameConfig(\"lh/config/maps/island.txt\")\n",
    "\n",
    "island = np.array(cfg.island)\n",
    "dim_x, dim_y = island.shape\n",
    "image = island[:, :]\n",
    "\n",
    "plt.matshow(image)\n",
    "plt.show()"
   ]
  },
  {
   "cell_type": "code",
   "execution_count": null,
   "metadata": {},
   "outputs": [],
   "source": [
    "pieces = np.zeros((18, 21, 5))\n",
    "\n",
    "previous_actor =  pieces[10, 12, :]\n",
    "print(previous_actor)"
   ]
  },
  {
   "cell_type": "code",
   "execution_count": null,
   "metadata": {},
   "outputs": [],
   "source": [
    "pieces = np.zeros((10, 16, 5))\n",
    "pieces[5, 10, 1] = 1\n",
    "pieces[9, 15, 1] = -1\n",
    "\n",
    "dim_x, dim_y, dim_z = pieces.shape\n",
    "print(pieces[1])\n",
    "\n",
    "for y in range(dim_y):\n",
    "    for x in range(dim_x):\n",
    "        print(pieces[x][y][1])\n"
   ]
  },
  {
   "cell_type": "code",
   "execution_count": null,
   "metadata": {},
   "outputs": [],
   "source": [
    "moves = [0] * 10\n",
    "print(moves)\n",
    "\n",
    "move = [3,7,9]\n",
    "for m in move:\n",
    "    moves[m] = 1\n",
    "\n",
    "print(moves)\n",
    "\n",
    "pi = [0.0,0.0,0.0,0.1,0.0,0.0,0.0,0.8,0.0,0.1]\n",
    "action = np.random.choice(len(moves), p=pi)\n",
    "print(\"%s\" % (action))"
   ]
  },
  {
   "cell_type": "code",
   "execution_count": 5,
   "metadata": {},
   "outputs": [
    {
     "name": "stdout",
     "output_type": "stream",
     "text": [
      "[(None, None), (None, None), (None, None), (None, None), (None, None), (None, None), (None, None), (None, None), (None, None), (None, None)]\n"
     ]
    }
   ],
   "source": [
    "moves = [(None,None)] * 10\n",
    "print(moves)"
   ]
  }
 ],
 "metadata": {
  "kernelspec": {
   "display_name": "game",
   "language": "python",
   "name": "game"
  },
  "language_info": {
   "codemirror_mode": {
    "name": "ipython",
    "version": 3
   },
   "file_extension": ".py",
   "mimetype": "text/x-python",
   "name": "python",
   "nbconvert_exporter": "python",
   "pygments_lexer": "ipython3",
   "version": "3.5.6"
  }
 },
 "nbformat": 4,
 "nbformat_minor": 2
}
